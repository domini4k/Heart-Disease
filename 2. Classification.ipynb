{
  "cells": [
    {
      "metadata": {},
      "cell_type": "markdown",
      "source": "# Classification"
    },
    {
      "metadata": {},
      "cell_type": "markdown",
      "source": "Fortunately, dataset is cleared. Another advantage is that the categorical labels are transformed into values for example: 1, 2, 3 instead of strings."
    },
    {
      "metadata": {
        "trusted": true
      },
      "cell_type": "code",
      "source": "import pandas as pd\nimport matplotlib.pyplot as plt\nimport seaborn as sns\nimport numpy as np\nimport numpy.random as nr\nimport math\nfrom sklearn import preprocessing\nimport sklearn.model_selection as ms\nfrom sklearn import linear_model\nimport sklearn.metrics as sklm\n\n%matplotlib inline",
      "execution_count": 1,
      "outputs": [
        {
          "output_type": "stream",
          "text": "/home/nbuser/anaconda3_501/lib/python3.6/site-packages/matplotlib/font_manager.py:229: UserWarning: Matplotlib is building the font cache using fc-list. This may take a moment.\n  'Matplotlib is building the font cache using fc-list. '\n",
          "name": "stderr"
        }
      ]
    },
    {
      "metadata": {},
      "cell_type": "raw",
      "source": "Columns in order:\n    \nage\nsex: 0 - female, 1 - male\nchest pain type (4 values):\n    -- Value 0: asymptomatic\n    -- Value 1: atypical angina\n    -- Value 2: non-anginal pain\n    -- Value 3: typical angina\nresting blood pressure:\nserum cholestoral in mg/dl\nfasting blood sugar > 120 mg/dl\nresting electrocardiographic results (values 0,1,2)\n     -- Value 0: showing probable or definite left ventricular hypertrophy by Estes' criteria\n     -- Value 1: normal\n     -- Value 2: having ST-T wave abnormality (T wave inversions and/or ST elevation or depression of > 0.05 mV)\nmaximum heart rate achieved\nexercise induced angina\noldpeak = ST depression induced by exercise relative to rest\nthe slope of the peak exercise ST segment\n    0: downsloping; 1: flat; 2: upsloping\nnumber of major vessels (0-3) colored by flourosopy\nthal:  1 = fixed defect; 2 = normal; 7 = reversable defect\ntarget:  0 = disease, 1 = no disease"
    },
    {
      "metadata": {
        "trusted": true
      },
      "cell_type": "code",
      "source": "heart_disease_data = pd.read_csv('heart.csv')\nheart_disease_data.columns =['age', 'sex', 'chest_pain', 'restbps', 'chol', 'fbs', 'restecg', 'max_heart_rate',\n       'exang', 'oldpeak', 'slope', 'ca', 'thal', 'actual_disease']\ndisease_counts = heart_disease_data['actual_disease'].value_counts()\nprint(disease_counts)",
      "execution_count": 2,
      "outputs": [
        {
          "output_type": "stream",
          "text": "1    161\n0    136\nName: actual_disease, dtype: int64\n",
          "name": "stdout"
        }
      ]
    },
    {
      "metadata": {},
      "cell_type": "markdown",
      "source": "As spoken in previous notebook there is slight imbalance: 45% people have heart disease."
    },
    {
      "metadata": {},
      "cell_type": "markdown",
      "source": "As listed on the top of this notebook categorical string variables are already transformed into integers which is an advantage. Now they have to be transformed into \"dummy\" variables and append them into dataset."
    },
    {
      "metadata": {
        "trusted": true
      },
      "cell_type": "code",
      "source": "labels = np.array(heart_disease_data['actual_disease'])",
      "execution_count": 3,
      "outputs": []
    },
    {
      "metadata": {
        "trusted": true
      },
      "cell_type": "code",
      "source": "def encode_string(cat_features):\n    enc = preprocessing.LabelEncoder()\n    enc.fit(cat_features)\n    enc_cat_features = enc.transform(cat_features)\n    ohe = preprocessing.OneHotEncoder(categories='auto')\n    encoded = ohe.fit(enc_cat_features.reshape(-1,1))\n    return encoded.transform(enc_cat_features.reshape(-1,1)).toarray()\n\ncategorical_columns = ['chest_pain', 'fbs', 'exang', 'restecg', 'slope', 'ca', 'thal']\n\nFeatures = encode_string(heart_disease_data['sex'])\nfor col in categorical_columns:\n    temp = encode_string(heart_disease_data[col])\n    Features = np.concatenate([Features, temp], axis = 1)  \n    \nprint(Features.shape)\nprint(Features[:2, :]) ",
      "execution_count": 4,
      "outputs": [
        {
          "output_type": "stream",
          "text": "(297, 24)\n[[0. 1. 0. 0. 0. 1. 0. 1. 1. 0. 1. 0. 0. 1. 0. 0. 1. 0. 0. 0. 0. 1. 0. 0.]\n [0. 1. 0. 0. 1. 0. 1. 0. 1. 0. 0. 1. 0. 1. 0. 0. 1. 0. 0. 0. 0. 0. 1. 0.]]\n",
          "name": "stdout"
        }
      ]
    },
    {
      "metadata": {
        "trusted": true
      },
      "cell_type": "markdown",
      "source": "Next the numeric features must be concatenated to the numpy array"
    },
    {
      "metadata": {
        "trusted": true
      },
      "cell_type": "code",
      "source": "Features = np.concatenate([Features, np.array(heart_disease_data[['age', 'restbps', 'chol', 'max_heart_rate', 'oldpeak']])], axis = 1)\nprint(Features.shape)\nprint(Features[:2, :])  ",
      "execution_count": 5,
      "outputs": [
        {
          "output_type": "stream",
          "text": "(297, 29)\n[[  0.    1.    0.    0.    0.    1.    0.    1.    1.    0.    1.    0.\n    0.    1.    0.    0.    1.    0.    0.    0.    0.    1.    0.    0.\n   63.  145.  233.  150.    2.3]\n [  0.    1.    0.    0.    1.    0.    1.    0.    1.    0.    0.    1.\n    0.    1.    0.    0.    1.    0.    0.    0.    0.    0.    1.    0.\n   37.  130.  250.  187.    3.5]]\n",
          "name": "stdout"
        }
      ]
    },
    {
      "metadata": {},
      "cell_type": "markdown",
      "source": "# Splitting dataset"
    },
    {
      "metadata": {},
      "cell_type": "markdown",
      "source": "Splitting the dataset is a must in machine learning. There is no point training the model using all the given data. Dataset have to be splitted to train and test part as below."
    },
    {
      "metadata": {
        "trusted": true
      },
      "cell_type": "code",
      "source": "nr.seed(9988)\nindx = range(Features.shape[0])\nindx = ms.train_test_split(indx, test_size = 80)\nX_train = Features[indx[0],:]\ny_train = np.ravel(labels[indx[0]])\nX_test = Features[indx[1],:]\ny_test = np.ravel(labels[indx[1]])",
      "execution_count": 6,
      "outputs": []
    },
    {
      "metadata": {},
      "cell_type": "markdown",
      "source": "Using StandarScaler from Scikit Learn scaling the model must be applied. All the numeric values must be in a similiar range of vales."
    },
    {
      "metadata": {
        "trusted": true
      },
      "cell_type": "code",
      "source": "scaler = preprocessing.StandardScaler().fit(X_train[:,28:])\nX_train[:,28:] = scaler.transform(X_train[:,28:])\nX_test[:,28:] = scaler.transform(X_test[:,28:])\nX_train[:2,]",
      "execution_count": 7,
      "outputs": [
        {
          "output_type": "execute_result",
          "execution_count": 7,
          "data": {
            "text/plain": "array([[  0.        ,   1.        ,   0.        ,   0.        ,\n          0.        ,   1.        ,   0.        ,   1.        ,\n          1.        ,   0.        ,   1.        ,   0.        ,\n          0.        ,   1.        ,   0.        ,   0.        ,\n          1.        ,   0.        ,   0.        ,   0.        ,\n          0.        ,   1.        ,   0.        ,   0.        ,\n         63.        , 145.        , 233.        , 150.        ,\n          1.02370131],\n       [  0.        ,   1.        ,   0.        ,   0.        ,\n          0.        ,   1.        ,   1.        ,   0.        ,\n          0.        ,   1.        ,   0.        ,   1.        ,\n          0.        ,   0.        ,   1.        ,   0.        ,\n          1.        ,   0.        ,   0.        ,   0.        ,\n          0.        ,   0.        ,   0.        ,   1.        ,\n         38.        , 120.        , 231.        , 182.        ,\n          2.29260755]])"
          },
          "metadata": {}
        }
      ]
    },
    {
      "metadata": {
        "trusted": true
      },
      "cell_type": "markdown",
      "source": "# Logistic regression"
    },
    {
      "metadata": {
        "trusted": true
      },
      "cell_type": "code",
      "source": "logistic_mod = linear_model.LogisticRegression() \nlogistic_mod.fit(X_train, y_train)",
      "execution_count": 8,
      "outputs": [
        {
          "output_type": "stream",
          "text": "/home/nbuser/anaconda3_501/lib/python3.6/site-packages/sklearn/linear_model/logistic.py:433: FutureWarning: Default solver will be changed to 'lbfgs' in 0.22. Specify a solver to silence this warning.\n  FutureWarning)\n",
          "name": "stderr"
        },
        {
          "output_type": "execute_result",
          "execution_count": 8,
          "data": {
            "text/plain": "LogisticRegression(C=1.0, class_weight=None, dual=False, fit_intercept=True,\n          intercept_scaling=1, max_iter=100, multi_class='warn',\n          n_jobs=None, penalty='l2', random_state=None, solver='warn',\n          tol=0.0001, verbose=0, warm_start=False)"
          },
          "metadata": {}
        }
      ]
    },
    {
      "metadata": {},
      "cell_type": "markdown",
      "source": "Configuration of the model has been printed. For now the model is using basic settings."
    },
    {
      "metadata": {
        "trusted": true
      },
      "cell_type": "code",
      "source": "print(logistic_mod.intercept_)\nprint(logistic_mod.coef_)",
      "execution_count": 9,
      "outputs": [
        {
          "output_type": "stream",
          "text": "[-0.0710317]\n[[ 0.58477244 -0.65580414 -1.1076005  -0.28827808  0.59750065  0.72734624\n  -0.46193223  0.39090053  0.23867415 -0.30970585 -0.15207698  0.21779687\n  -0.13675158  0.08446025 -0.68769979  0.53220784  1.71018293 -0.51796468\n  -0.77395339 -0.48929655  0.          0.41934242  0.37580664 -0.86618076\n   0.0293072  -0.02535506 -0.00180055  0.01783354 -0.49702625]]\n",
          "name": "stdout"
        }
      ]
    },
    {
      "metadata": {},
      "cell_type": "markdown",
      "source": "This output is a bad sign. All the coefficients are in the same range of values which is not very good. This is a signal that probably model is overfit."
    },
    {
      "metadata": {
        "trusted": true
      },
      "cell_type": "code",
      "source": "probabilities = logistic_mod.predict_proba(X_test)\nprint(probabilities[:15,:])",
      "execution_count": 10,
      "outputs": [
        {
          "output_type": "stream",
          "text": "[[0.98925987 0.01074013]\n [0.99300457 0.00699543]\n [0.02982574 0.97017426]\n [0.99583863 0.00416137]\n [0.94379345 0.05620655]\n [0.50087137 0.49912863]\n [0.2774823  0.7225177 ]\n [0.06708866 0.93291134]\n [0.83183571 0.16816429]\n [0.3390332  0.6609668 ]\n [0.99268142 0.00731858]\n [0.06512828 0.93487172]\n [0.00777227 0.99222773]\n [0.83169496 0.16830504]\n [0.99547358 0.00452642]]\n",
          "name": "stdout"
        }
      ]
    },
    {
      "metadata": {},
      "cell_type": "markdown",
      "source": "# Evaluate model "
    },
    {
      "metadata": {
        "trusted": true
      },
      "cell_type": "code",
      "source": "def score_model(probs, threshold):\n    return np.array([1 if x > threshold else 0 for x in probs[:,1]])\nscores = score_model(probabilities, 0.5)\nprint(np.array(scores[:15]))\nprint(y_test[:15])",
      "execution_count": 11,
      "outputs": [
        {
          "output_type": "stream",
          "text": "[0 0 1 0 0 0 1 1 0 1 0 1 1 0 0]\n[0 0 0 0 0 0 1 1 0 1 0 1 1 0 0]\n",
          "name": "stdout"
        }
      ]
    },
    {
      "metadata": {},
      "cell_type": "markdown",
      "source": "In the cell above it is shown a few examples how test data evaluated the model. Actually this is beggining of the work on the machine learning model. There are many ways to evaluate the model:\n- Accuracy\n- Precision\n- Recall\n- F1\n- ROC\nFor more information go to: https://scikit-learn.org/stable/modules/model_evaluation.html\nUsing only accuracy, which is the most popular metric can be misleading and sometimes completly senseless."
    },
    {
      "metadata": {
        "trusted": true
      },
      "cell_type": "code",
      "source": "def print_metrics(labels, scores):\n    metrics = sklm.precision_recall_fscore_support(labels, scores)\n    conf = sklm.confusion_matrix(labels, scores)\n    print('                 Confusion matrix')\n    print('                 Score positive    Score negative')\n    print('Actual positive    %6d' % conf[0,0] + '             %5d' % conf[0,1])\n    print('Actual negative    %6d' % conf[1,0] + '             %5d' % conf[1,1])\n    print('')\n    print('Accuracy  %0.2f' % sklm.accuracy_score(labels, scores))\n    print(' ')\n    print('           Positive      Negative')\n    print('Num case   %6d' % metrics[3][0] + '        %6d' % metrics[3][1])\n    print('Precision  %6.2f' % metrics[0][0] + '        %6.2f' % metrics[0][1])\n    print('Recall     %6.2f' % metrics[1][0] + '        %6.2f' % metrics[1][1])\n    print('F1         %6.2f' % metrics[2][0] + '        %6.2f' % metrics[2][1])\n\n\n    \nprint_metrics(y_test, scores) ",
      "execution_count": 12,
      "outputs": [
        {
          "output_type": "stream",
          "text": "                 Confusion matrix\n                 Score positive    Score negative\nActual positive        37                 4\nActual negative         3                36\n\nAccuracy  0.91\n \n           Positive      Negative\nNum case       41            39\nPrecision    0.93          0.90\nRecall       0.90          0.92\nF1           0.91          0.91\n",
          "name": "stdout"
        }
      ]
    },
    {
      "metadata": {},
      "cell_type": "markdown",
      "source": "Metrics looks resonable on the first sight. There is room for improvement. Cases \"actual posistive\" and \"actual negative\" have pretty the same values with a little deviation towards negatives (false poitive = 3, false negative = 4). Note: Positive means heart disease."
    },
    {
      "metadata": {
        "trusted": true
      },
      "cell_type": "code",
      "source": "def plot_auc(labels, probs):\n    ## Compute the false positive rate, true positive rate\n    ## and threshold along with the AUC\n    fpr, tpr, threshold = sklm.roc_curve(labels, probs[:,1])\n    auc = sklm.auc(fpr, tpr)\n    \n    ## Plot the result\n    plt.title('Receiver Operating Characteristic')\n    plt.plot(fpr, tpr, color = 'orange', label = 'AUC = %0.2f' % auc)\n    plt.legend(loc = 'lower right')\n    plt.plot([0, 1], [0, 1],'r--')\n    plt.xlim([0, 1])\n    plt.ylim([0, 1])\n    plt.ylabel('True Positive Rate')\n    plt.xlabel('False Positive Rate')\n    plt.show()\n    \nplot_auc(y_test, probabilities)   ",
      "execution_count": 13,
      "outputs": [
        {
          "output_type": "display_data",
          "data": {
            "image/png": "[encoded data removed]",
            "text/plain": "<Figure size 432x288 with 1 Axes>"
          },
          "metadata": {
            "needs_background": "light"
          }
        }
      ]
    },
    {
      "metadata": {},
      "cell_type": "markdown",
      "source": "The AUC curve seems to be very good. The ideal version is when the curve is the same as the upper and left side of the graph area. Lets try to weight this model. As written before the model is a little imbalanced."
    },
    {
      "metadata": {
        "trusted": true
      },
      "cell_type": "code",
      "source": "logistic_mod = linear_model.LogisticRegression(solver = 'lbfgs', max_iter = 7600, class_weight = {0:0.55, 1:0.45}) \nlogistic_mod.fit(X_train, y_train)",
      "execution_count": 14,
      "outputs": [
        {
          "output_type": "execute_result",
          "execution_count": 14,
          "data": {
            "text/plain": "LogisticRegression(C=1.0, class_weight={0: 0.55, 1: 0.45}, dual=False,\n          fit_intercept=True, intercept_scaling=1, max_iter=7600,\n          multi_class='warn', n_jobs=None, penalty='l2', random_state=None,\n          solver='lbfgs', tol=0.0001, verbose=0, warm_start=False)"
          },
          "metadata": {}
        }
      ]
    },
    {
      "metadata": {
        "trusted": true
      },
      "cell_type": "code",
      "source": "probabilities = logistic_mod.predict_proba(X_test)\nprint(probabilities[:15,:])",
      "execution_count": 15,
      "outputs": [
        {
          "output_type": "stream",
          "text": "[[0.98430265 0.01569735]\n [0.99041456 0.00958544]\n [0.04747547 0.95252453]\n [0.99426798 0.00573202]\n [0.94059563 0.05940437]\n [0.5850108  0.4149892 ]\n [0.34104233 0.65895767]\n [0.0885389  0.9114611 ]\n [0.81566358 0.18433642]\n [0.37490409 0.62509591]\n [0.9888594  0.0111406 ]\n [0.08890463 0.91109537]\n [0.01533177 0.98466823]\n [0.80207842 0.19792158]\n [0.9939337  0.0060663 ]]\n",
          "name": "stdout"
        }
      ]
    },
    {
      "metadata": {
        "trusted": true
      },
      "cell_type": "code",
      "source": "scores = score_model(probabilities, 0.5)\nprint_metrics(y_test, scores)  \nplot_auc(y_test, probabilities)  ",
      "execution_count": 16,
      "outputs": [
        {
          "output_type": "stream",
          "text": "                 Confusion matrix\n                 Score positive    Score negative\nActual positive        37                 4\nActual negative         3                36\n\nAccuracy  0.91\n \n           Positive      Negative\nNum case       41            39\nPrecision    0.93          0.90\nRecall       0.90          0.92\nF1           0.91          0.91\n",
          "name": "stdout"
        },
        {
          "output_type": "display_data",
          "data": {
            "image/png": "[encoded data removed]",
            "text/plain": "<Figure size 432x288 with 1 Axes>"
          },
          "metadata": {
            "needs_background": "light"
          }
        }
      ]
    },
    {
      "metadata": {},
      "cell_type": "markdown",
      "source": "This operation did not improve model much."
    },
    {
      "metadata": {},
      "cell_type": "markdown",
      "source": "In this point an important question should be asked. What the model should be focused on? Let's assume that the model is only a tool for a doctor. So in this case, model is ought to define all positive cases (zeroes) as positives and as little negatives (ones) as positives as it can. Classifing sick person as healthy is dangerous, classifing healthy as sick is only a job for a doctor to check this case."
    },
    {
      "metadata": {},
      "cell_type": "markdown",
      "source": "So in this scenario the performance of the model is not actually as good as thought before. 4 out of 41 cases with disease are listed as healthy ones. This is almost 10% chance to be missclassified having a heart disease. Let's try to minimalize this number to zero."
    },
    {
      "metadata": {
        "trusted": true
      },
      "cell_type": "code",
      "source": "logistic_mod = linear_model.LogisticRegression(solver = 'lbfgs', max_iter = 7600, class_weight = {0:0.85, 1:0.15}) \nlogistic_mod.fit(X_train, y_train)\n\nprobabilities = logistic_mod.predict_proba(X_test)\nscores = score_model(probabilities, 0.5)\nprint_metrics(y_test, scores)  \nplot_auc(y_test, probabilities)  ",
      "execution_count": 17,
      "outputs": [
        {
          "output_type": "stream",
          "text": "                 Confusion matrix\n                 Score positive    Score negative\nActual positive        39                 2\nActual negative        17                22\n\nAccuracy  0.76\n \n           Positive      Negative\nNum case       41            39\nPrecision    0.70          0.92\nRecall       0.95          0.56\nF1           0.80          0.70\n",
          "name": "stdout"
        },
        {
          "output_type": "display_data",
          "data": {
            "image/png": "[encoded data removed]",
            "text/plain": "<Figure size 432x288 with 1 Axes>"
          },
          "metadata": {
            "needs_background": "light"
          }
        }
      ]
    },
    {
      "metadata": {},
      "cell_type": "markdown",
      "source": "Weighting the model in such way that cases with disease are much more important that those without creates a bias. This not very good for accuracy of the model but this is actually what should the model perform. To find every person with heart disease and point as less false positives as it can."
    },
    {
      "metadata": {
        "trusted": true
      },
      "cell_type": "code",
      "source": "def test_threshold(probs, labels, threshold):\n    scores = score_model(probs, threshold)\n    print('')\n    print('For threshold = ' + str(threshold))\n    print_metrics(labels, scores)\n\nthresholds = [0.95, 0.90, 0.85, 0.80, 0.75, 0.7, 0.65, 0.6, 0.55]\nfor t in thresholds:\n    test_threshold(probabilities, y_test, t)",
      "execution_count": 18,
      "outputs": [
        {
          "output_type": "stream",
          "text": "\nFor threshold = 0.95\n                 Confusion matrix\n                 Score positive    Score negative\nActual positive        41                 0\nActual negative        39                 0\n\nAccuracy  0.51\n \n           Positive      Negative\nNum case       41            39\nPrecision    0.51          0.00\nRecall       1.00          0.00\nF1           0.68          0.00\n\nFor threshold = 0.9\n                 Confusion matrix\n                 Score positive    Score negative\nActual positive        41                 0\nActual negative        36                 3\n\nAccuracy  0.55\n \n           Positive      Negative\nNum case       41            39\nPrecision    0.53          1.00\nRecall       1.00          0.08\nF1           0.69          0.14\n\nFor threshold = 0.85\n                 Confusion matrix\n                 Score positive    Score negative\nActual positive        41                 0\nActual negative        34                 5\n\nAccuracy  0.57\n \n           Positive      Negative\nNum case       41            39\nPrecision    0.55          1.00\nRecall       1.00          0.13\nF1           0.71          0.23\n\nFor threshold = 0.8\n                 Confusion matrix\n                 Score positive    Score negative\nActual positive        41                 0\nActual negative        31                 8\n\nAccuracy  0.61\n \n           Positive      Negative\nNum case       41            39\nPrecision    0.57          1.00\nRecall       1.00          0.21\nF1           0.73          0.34\n\nFor threshold = 0.75\n                 Confusion matrix\n                 Score positive    Score negative\nActual positive        40                 1\nActual negative        29                10\n\nAccuracy  0.62\n \n           Positive      Negative\nNum case       41            39\nPrecision    0.58          0.91\nRecall       0.98          0.26\nF1           0.73          0.40\n\nFor threshold = 0.7\n                 Confusion matrix\n                 Score positive    Score negative\nActual positive        40                 1\nActual negative        25                14\n\nAccuracy  0.68\n \n           Positive      Negative\nNum case       41            39\nPrecision    0.62          0.93\nRecall       0.98          0.36\nF1           0.75          0.52\n\nFor threshold = 0.65\n                 Confusion matrix\n                 Score positive    Score negative\nActual positive        40                 1\nActual negative        22                17\n\nAccuracy  0.71\n \n           Positive      Negative\nNum case       41            39\nPrecision    0.65          0.94\nRecall       0.98          0.44\nF1           0.78          0.60\n\nFor threshold = 0.6\n                 Confusion matrix\n                 Score positive    Score negative\nActual positive        40                 1\nActual negative        21                18\n\nAccuracy  0.72\n \n           Positive      Negative\nNum case       41            39\nPrecision    0.66          0.95\nRecall       0.98          0.46\nF1           0.78          0.62\n\nFor threshold = 0.55\n                 Confusion matrix\n                 Score positive    Score negative\nActual positive        39                 2\nActual negative        19                20\n\nAccuracy  0.74\n \n           Positive      Negative\nNum case       41            39\nPrecision    0.67          0.91\nRecall       0.95          0.51\nF1           0.79          0.66\n",
          "name": "stdout"
        },
        {
          "output_type": "stream",
          "text": "/home/nbuser/anaconda3_501/lib/python3.6/site-packages/sklearn/metrics/classification.py:1143: UndefinedMetricWarning: Precision and F-score are ill-defined and being set to 0.0 in labels with no predicted samples.\n  'precision', 'predicted', average, warn_for)\n",
          "name": "stderr"
        }
      ]
    },
    {
      "metadata": {},
      "cell_type": "markdown",
      "source": "For this for loop it is shown that resonable value of threshold is 0.6. It is pretty high although there is only one case with disease missclassified. For threshold = 0.8 there is 0 missclassified cases with disease but accuracy is only 0.61! Very close to just say that all cases have disease. Again it should be considered: what is more important? Better accuracy overall or 100% accuracy in defining disease cases. In the next notebook the model should be improved."
    },
    {
      "metadata": {
        "trusted": true
      },
      "cell_type": "code",
      "source": "heart_disease_data.to_csv('heart-pre.csv', index=False)",
      "execution_count": 19,
      "outputs": []
    },
    {
      "metadata": {
        "trusted": true
      },
      "cell_type": "code",
      "source": "pd.DataFrame(Features).to_csv(\"Features.csv\", index=None)\npd.DataFrame(labels).to_csv(\"Labels.csv\", index=None)",
      "execution_count": 20,
      "outputs": []
    }
  ],
  "metadata": {
    "kernelspec": {
      "name": "python36",
      "display_name": "Python 3.6",
      "language": "python"
    },
    "language_info": {
      "mimetype": "text/x-python",
      "nbconvert_exporter": "python",
      "name": "python",
      "pygments_lexer": "ipython3",
      "version": "3.6.6",
      "file_extension": ".py",
      "codemirror_mode": {
        "version": 3,
        "name": "ipython"
      }
    }
  },
  "nbformat": 4,
  "nbformat_minor": 1
}